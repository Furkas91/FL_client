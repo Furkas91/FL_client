{
 "cells": [
  {
   "cell_type": "code",
   "execution_count": 1,
   "metadata": {},
   "outputs": [],
   "source": [
    "import tensorflow as tf"
   ]
  },
  {
   "cell_type": "code",
   "execution_count": 2,
   "metadata": {
    "pycharm": {
     "name": "#%%\n"
    }
   },
   "outputs": [],
   "source": [
    "# Fetch and format the mnist data\n",
    "(mnist_images, mnist_labels), _ = tf.keras.datasets.mnist.load_data()\n",
    "\n",
    "dataset = tf.data.Dataset.from_tensor_slices(\n",
    "  (tf.cast(mnist_images[...,tf.newaxis]/255, tf.float32),\n",
    "   tf.cast(mnist_labels,tf.int64)))\n",
    "dataset = dataset.shuffle(1000).batch(32)"
   ]
  },
  {
   "cell_type": "code",
   "execution_count": 3,
   "metadata": {
    "pycharm": {
     "name": "#%%\n"
    }
   },
   "outputs": [],
   "source": [
    "mnist_model = tf.keras.Sequential([\n",
    "  tf.keras.layers.Conv2D(16,[3,3], activation='relu',\n",
    "                         input_shape=(None, None, 1)),\n",
    "  tf.keras.layers.Conv2D(16,[3,3], activation='relu'),\n",
    "  tf.keras.layers.GlobalAveragePooling2D(),\n",
    "  tf.keras.layers.Dense(10)\n",
    "])"
   ]
  },
  {
   "cell_type": "code",
   "execution_count": 4,
   "metadata": {
    "pycharm": {
     "name": "#%%\n"
    }
   },
   "outputs": [
    {
     "name": "stdout",
     "output_type": "stream",
     "text": [
      "Logits:  [[ 0.0129918  -0.0171027   0.05590407 -0.03999951  0.0067974   0.00525388\n",
      "  -0.03061248 -0.03761146  0.00329823 -0.02982771]]\n"
     ]
    }
   ],
   "source": [
    "for images,labels in dataset.take(1):\n",
    "  print(\"Logits: \", mnist_model(images[0:1]).numpy())"
   ]
  },
  {
   "cell_type": "code",
   "execution_count": 5,
   "metadata": {
    "pycharm": {
     "name": "#%%\n"
    }
   },
   "outputs": [],
   "source": [
    "optimizer = tf.keras.optimizers.Adam()\n",
    "loss_object = tf.keras.losses.SparseCategoricalCrossentropy(from_logits=True)\n",
    "\n",
    "loss_history = []"
   ]
  },
  {
   "cell_type": "code",
   "execution_count": 6,
   "metadata": {
    "pycharm": {
     "name": "#%%\n"
    }
   },
   "outputs": [],
   "source": [
    "def train_step(images, labels):\n",
    "  with tf.GradientTape() as tape:\n",
    "    logits = mnist_model(images, training=True)\n",
    "\n",
    "    # Add asserts to check the shape of the output.\n",
    "    tf.debugging.assert_equal(logits.shape, (32, 10))\n",
    "\n",
    "    loss_value = loss_object(labels, logits)\n",
    "\n",
    "  loss_history.append(loss_value.numpy().mean())\n",
    "  grads = tape.gradient(loss_value, mnist_model.trainable_variables)\n",
    "  optimizer.apply_gradients(zip(grads, mnist_model.trainable_variables))"
   ]
  },
  {
   "cell_type": "code",
   "execution_count": 7,
   "metadata": {
    "pycharm": {
     "name": "#%%\n"
    }
   },
   "outputs": [],
   "source": [
    "def train(epochs):\n",
    "  for epoch in range(epochs):\n",
    "    for (batch, (images, labels)) in enumerate(dataset):\n",
    "      train_step(images, labels)\n",
    "    print ('Epoch {} finished'.format(epoch))"
   ]
  },
  {
   "cell_type": "code",
   "execution_count": 8,
   "metadata": {
    "pycharm": {
     "name": "#%%\n"
    }
   },
   "outputs": [
    {
     "name": "stdout",
     "output_type": "stream",
     "text": [
      "Epoch 0 finished\n",
      "Epoch 1 finished\n",
      "Epoch 2 finished\n"
     ]
    }
   ],
   "source": [
    "train(epochs = 3)"
   ]
  },
  {
   "cell_type": "code",
   "execution_count": 9,
   "metadata": {
    "pycharm": {
     "name": "#%%\n"
    }
   },
   "outputs": [
    {
     "data": {
      "text/plain": [
       "Text(0, 0.5, 'Loss [entropy]')"
      ]
     },
     "execution_count": 9,
     "metadata": {},
     "output_type": "execute_result"
    },
    {
     "data": {
      "image/png": "[encoded data removed]",
      "text/plain": [
       "<Figure size 432x288 with 1 Axes>"
      ]
     },
     "metadata": {
      "needs_background": "light"
     },
     "output_type": "display_data"
    }
   ],
   "source": [
    "import matplotlib.pyplot as plt\n",
    "\n",
    "plt.plot(loss_history)\n",
    "plt.xlabel('Batch #')\n",
    "plt.ylabel('Loss [entropy]')"
   ]
  },
  {
   "cell_type": "code",
   "execution_count": 10,
   "metadata": {
    "pycharm": {
     "name": "#%%\n"
    }
   },
   "outputs": [
    {
     "data": {
      "text/plain": [
       "16"
      ]
     },
     "execution_count": 10,
     "metadata": {},
     "output_type": "execute_result"
    }
   ],
   "source": [
    "mnist_model.get_weights()[4].__len__()"
   ]
  },
  {
   "cell_type": "code",
   "execution_count": 11,
   "metadata": {
    "pycharm": {
     "name": "#%%\n"
    }
   },
   "outputs": [],
   "source": [
    "easy_model = tf.keras.Sequential([\n",
    "    tf.keras.layers.Dense(64, activation='relu'),\n",
    "    tf.keras.layers.Dense(32, activation='relu'),\n",
    "    tf.keras.layers.Dense(10)\n",
    "])\n",
    "\n",
    "easy_model.compile()"
   ]
  },
  {
   "cell_type": "code",
   "execution_count": 12,
   "metadata": {
    "pycharm": {
     "name": "#%%\n"
    }
   },
   "outputs": [],
   "source": [
    "#\n",
    "# def create_model():\n",
    "#   return tf.keras.models.Sequential([\n",
    "#     tf.keras.layers.Flatten(input_shape=(150, 150, 1)),\n",
    "#     tf.keras.layers.Dense(256, activation='relu'),\n",
    "#     tf.keras.layers.Dropout(0.2),\n",
    "#     tf.keras.layers.Dense(128, activation='relu'),\n",
    "#     tf.keras.layers.Dropout(0.2),\n",
    "#     # tf.keras.layers.Dense(64, activation='relu'),\n",
    "#     # tf.keras.layers.Dropout(0.2),\n",
    "#     # tf.keras.layers.Dense(32, activation='relu'),\n",
    "#     # tf.keras.layers.Dropout(0.2),\n",
    "#     tf.keras.layers.Dense(10, activation='softmax')\n",
    "#   ])\n",
    "#\n",
    "# model = create_model()\n",
    "# # model.compile(optimizer = \"rmsprop\" , loss = 'binary_crossentropy' , metrics = ['accuracy'])\n",
    "# # model.summary()\n",
    "# model.compile(optimizer='SGD',\n",
    "#               loss='categorical_crossentropy',\n",
    "#               metrics=['accuracy'])\n",
    "# model.summary()"
   ]
  },
  {
   "cell_type": "code",
   "execution_count": 13,
   "metadata": {
    "pycharm": {
     "name": "#%%\n"
    }
   },
   "outputs": [],
   "source": [
    "mnist_model.save_weights('weights.txt')"
   ]
  },
  {
   "cell_type": "code",
   "execution_count": 14,
   "metadata": {
    "pycharm": {
     "name": "#%%\n"
    }
   },
   "outputs": [
    {
     "data": {
      "text/plain": [
       "{'_self_setattr_tracking': True,\n",
       " '_is_model_for_instrumentation': True,\n",
       " '_instrumented_keras_api': True,\n",
       " '_instrumented_keras_layer_class': False,\n",
       " '_instrumented_keras_model_class': True,\n",
       " '_trainable': True,\n",
       " '_stateful': False,\n",
       " 'built': True,\n",
       " '_build_input_shape': TensorShape([None, None, None, 1]),\n",
       " '_saved_model_inputs_spec': TensorSpec(shape=(None, None, None, 1), dtype=tf.float32, name='conv2d_input'),\n",
       " '_input_spec': None,\n",
       " '_supports_masking': True,\n",
       " '_name': 'sequential',\n",
       " '_activity_regularizer': None,\n",
       " '_trainable_weights': [],\n",
       " '_non_trainable_weights': [],\n",
       " '_updates': [],\n",
       " '_thread_local': <_thread._local at 0x13bc413bb88>,\n",
       " '_callable_losses': [],\n",
       " '_losses': [],\n",
       " '_metrics': [],\n",
       " '_metrics_lock': <unlocked _thread.lock object at 0x0000013BCB77A060>,\n",
       " '_dtype_policy': <Policy \"float32\">,\n",
       " '_compute_dtype_object': tf.float32,\n",
       " '_autocast': False,\n",
       " '_layers': [<tensorflow.python.keras.engine.input_layer.InputLayer at 0x13bcb77f0c8>,\n",
       "  <tensorflow.python.keras.layers.convolutional.Conv2D at 0x13bcb6eb648>,\n",
       "  <tensorflow.python.keras.layers.convolutional.Conv2D at 0x13bcb73b348>,\n",
       "  <tensorflow.python.keras.layers.pooling.GlobalAveragePooling2D at 0x13bcb73bc08>,\n",
       "  <tensorflow.python.keras.layers.core.Dense at 0x13bcb7770c8>],\n",
       " '_inbound_nodes_value': [],\n",
       " '_outbound_nodes_value': [],\n",
       " '_expects_training_arg': True,\n",
       " '_default_training_arg': None,\n",
       " '_expects_mask_arg': True,\n",
       " '_dynamic': False,\n",
       " '_initial_weights': None,\n",
       " '_auto_track_sub_layers': False,\n",
       " '_preserve_input_structure_in_config': False,\n",
       " '_is_graph_network': True,\n",
       " 'inputs': [<KerasTensor: shape=(None, None, None, 1) dtype=float32 (created by layer 'conv2d_input')>],\n",
       " 'outputs': [<KerasTensor: shape=(None, 10) dtype=float32 (created by layer 'dense')>],\n",
       " 'input_names': ['conv2d_input'],\n",
       " 'output_names': ['dense'],\n",
       " 'stop_training': False,\n",
       " 'history': None,\n",
       " 'compiled_loss': None,\n",
       " 'compiled_metrics': None,\n",
       " '_compute_output_and_mask_jointly': True,\n",
       " '_is_compiled': False,\n",
       " 'optimizer': None,\n",
       " '_distribution_strategy': None,\n",
       " '_run_eagerly': None,\n",
       " 'train_function': None,\n",
       " 'test_function': None,\n",
       " 'predict_function': None,\n",
       " '_compiled_trainable_state': <WeakKeyDictionary at 0x13bcb777e08>,\n",
       " '_training_state': None,\n",
       " '_trackable_saver': <tensorflow.python.training.tracking.util.TrackableSaver at 0x13bcb777e48>,\n",
       " '_steps_per_execution': None,\n",
       " '_train_counter': <tf.Variable 'Variable:0' shape=() dtype=int64, numpy=0>,\n",
       " '_test_counter': <tf.Variable 'Variable:0' shape=() dtype=int64, numpy=0>,\n",
       " '_predict_counter': <tf.Variable 'Variable:0' shape=() dtype=int64, numpy=0>,\n",
       " '_base_model_initialized': True,\n",
       " '_inferred_input_shape': None,\n",
       " '_has_explicit_input_shape': True,\n",
       " '_input_dtype': None,\n",
       " '_layer_call_argspecs': {<tensorflow.python.keras.engine.input_layer.InputLayer at 0x13bcb77f0c8>: FullArgSpec(args=['self', 'inputs'], varargs=None, varkw='kwargs', defaults=None, kwonlyargs=[], kwonlydefaults=None, annotations={}),\n",
       "  <tensorflow.python.keras.layers.convolutional.Conv2D at 0x13bcb6eb648>: FullArgSpec(args=['self', 'inputs'], varargs=None, varkw=None, defaults=None, kwonlyargs=[], kwonlydefaults=None, annotations={}),\n",
       "  <tensorflow.python.keras.layers.convolutional.Conv2D at 0x13bcb73b348>: FullArgSpec(args=['self', 'inputs'], varargs=None, varkw=None, defaults=None, kwonlyargs=[], kwonlydefaults=None, annotations={}),\n",
       "  <tensorflow.python.keras.layers.pooling.GlobalAveragePooling2D at 0x13bcb73bc08>: FullArgSpec(args=['self', 'inputs'], varargs=None, varkw=None, defaults=None, kwonlyargs=[], kwonlydefaults=None, annotations={}),\n",
       "  <tensorflow.python.keras.layers.core.Dense at 0x13bcb7770c8>: FullArgSpec(args=['self', 'inputs'], varargs=None, varkw=None, defaults=None, kwonlyargs=[], kwonlydefaults=None, annotations={})},\n",
       " '_created_nodes': set(),\n",
       " '_graph_initialized': True,\n",
       " '_use_legacy_deferred_behavior': False,\n",
       " '_nested_inputs': <KerasTensor: shape=(None, None, None, 1) dtype=float32 (created by layer 'conv2d_input')>,\n",
       " '_nested_outputs': <KerasTensor: shape=(None, 10) dtype=float32 (created by layer 'dense')>,\n",
       " '_enable_dict_to_input_mapping': True,\n",
       " '_input_layers': [<tensorflow.python.keras.engine.input_layer.InputLayer at 0x13bcb77f0c8>],\n",
       " '_output_layers': [<tensorflow.python.keras.layers.core.Dense at 0x13bcb7770c8>],\n",
       " '_input_coordinates': [(<tensorflow.python.keras.engine.input_layer.InputLayer at 0x13bcb77f0c8>,\n",
       "   0,\n",
       "   0)],\n",
       " '_output_coordinates': [(<tensorflow.python.keras.layers.core.Dense at 0x13bcb7770c8>,\n",
       "   0,\n",
       "   0)],\n",
       " '_output_mask_cache': {},\n",
       " '_output_tensor_cache': {},\n",
       " '_output_shape_cache': {},\n",
       " '_network_nodes': {'conv2d_1_ib-0',\n",
       "  'conv2d_ib-0',\n",
       "  'conv2d_input_ib-0',\n",
       "  'dense_ib-0',\n",
       "  'global_average_pooling2d_ib-0'},\n",
       " '_nodes_by_depth': defaultdict(list,\n",
       "             {0: [<tensorflow.python.keras.engine.node.Node at 0x13bcb7ee148>],\n",
       "              1: [<tensorflow.python.keras.engine.node.Node at 0x13bcb7e8c48>],\n",
       "              2: [<tensorflow.python.keras.engine.node.Node at 0x13bcb7d5608>],\n",
       "              3: [<tensorflow.python.keras.engine.node.Node at 0x13bcb786948>],\n",
       "              4: [<tensorflow.python.keras.engine.node.Node at 0x13bcb77fcc8>]}),\n",
       " '_feed_input_names': ['conv2d_input'],\n",
       " '_feed_inputs': [<KerasTensor: shape=(None, None, None, 1) dtype=float32 (created by layer 'conv2d_input')>],\n",
       " '_feed_input_shapes': [(None, None, None, 1)],\n",
       " '_tensor_usage_count': Counter({'1356328362120': 1,\n",
       "          '1356328366024': 1,\n",
       "          '1356328688968': 1,\n",
       "          '1356238428104': 1,\n",
       "          '1356328789000': 1}),\n",
       " '_self_unconditional_checkpoint_dependencies': [],\n",
       " '_self_unconditional_dependency_names': {},\n",
       " '_self_unconditional_deferred_dependencies': {},\n",
       " '_self_update_uid': -1,\n",
       " '_self_name_based_restores': set(),\n",
       " '_self_saveable_object_factories': {}}"
      ]
     },
     "execution_count": 14,
     "metadata": {},
     "output_type": "execute_result"
    }
   ],
   "source": [
    "vars(mnist_model)"
   ]
  }
 ],
 "metadata": {
  "kernelspec": {
   "display_name": "Python 3",
   "language": "python",
   "name": "python3"
  },
  "language_info": {
   "codemirror_mode": {
    "name": "ipython",
    "version": 3
   },
   "file_extension": ".py",
   "mimetype": "text/x-python",
   "name": "python",
   "nbconvert_exporter": "python",
   "pygments_lexer": "ipython3",
   "version": "3.7.8"
  }
 },
 "nbformat": 4,
 "nbformat_minor": 1
}